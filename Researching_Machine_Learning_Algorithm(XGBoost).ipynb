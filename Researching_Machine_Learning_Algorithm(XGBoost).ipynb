{
 "cells": [
  {
   "cell_type": "markdown",
   "metadata": {},
   "source": [
    "1. Import releavant packages and the dataset (Diabetes.csv)"
   ]
  },
  {
   "cell_type": "code",
   "execution_count": 1,
   "metadata": {},
   "outputs": [],
   "source": [
    "import xgboost as xgb\n",
    "import pandas as pd\n",
    "from sklearn.model_selection import train_test_split\n",
    "from sklearn.metrics import confusion_matrix, ConfusionMatrixDisplay, matthews_corrcoef\n",
    "import matplotlib.pyplot as plt\n",
    "%matplotlib inline\n",
    "df = pd.read_csv('diabetes.csv')"
   ]
  },
  {
   "cell_type": "markdown",
   "metadata": {},
   "source": [
    "2. Separate the dependent and independent variables"
   ]
  },
  {
   "cell_type": "code",
   "execution_count": 2,
   "metadata": {},
   "outputs": [],
   "source": [
    "X = df.copy()\n",
    "X.drop('Outcome',axis=1,inplace=True)\n",
    "y = df['Outcome'].copy()"
   ]
  },
  {
   "cell_type": "markdown",
   "metadata": {},
   "source": [
    "3. Split the dataset into training and testing portion"
   ]
  },
  {
   "cell_type": "code",
   "execution_count": 3,
   "metadata": {},
   "outputs": [],
   "source": [
    "X_train, X_test, y_train, y_test = train_test_split(X, y, test_size=0.25, random_state=0)"
   ]
  },
  {
   "cell_type": "markdown",
   "metadata": {},
   "source": [
    "4. Create a XGBoost Model and predict the test set."
   ]
  },
  {
   "cell_type": "code",
   "execution_count": 4,
   "metadata": {},
   "outputs": [
    {
     "name": "stdout",
     "output_type": "stream",
     "text": [
      "[0]\tvalidation_0-aucpr:0.63533\n",
      "[1]\tvalidation_0-aucpr:0.68222\n",
      "[2]\tvalidation_0-aucpr:0.68714\n",
      "[3]\tvalidation_0-aucpr:0.69260\n",
      "[4]\tvalidation_0-aucpr:0.69279\n",
      "[5]\tvalidation_0-aucpr:0.68855\n",
      "[6]\tvalidation_0-aucpr:0.69562\n",
      "[7]\tvalidation_0-aucpr:0.66525\n",
      "[8]\tvalidation_0-aucpr:0.66066\n",
      "[9]\tvalidation_0-aucpr:0.65780\n",
      "[10]\tvalidation_0-aucpr:0.65846\n",
      "[11]\tvalidation_0-aucpr:0.66108\n",
      "[12]\tvalidation_0-aucpr:0.65784\n",
      "[13]\tvalidation_0-aucpr:0.65470\n",
      "[14]\tvalidation_0-aucpr:0.65782\n",
      "[15]\tvalidation_0-aucpr:0.65167\n",
      "[16]\tvalidation_0-aucpr:0.64844\n"
     ]
    }
   ],
   "source": [
    "clf = xgb.XGBClassifier(objective='binary:logistic', seed = 0,early_stopping_rounds =10,eval_metric='aucpr')\n",
    "clf.fit(X_train,\n",
    "        y_train,\n",
    "        eval_set=[(X_test,y_test)])\n",
    "                                                    \n",
    "y_predicted = clf.predict(X_test)"
   ]
  },
  {
   "cell_type": "markdown",
   "metadata": {},
   "source": [
    "5. Create Confusion Matrix"
   ]
  },
  {
   "cell_type": "code",
   "execution_count": 5,
   "metadata": {},
   "outputs": [
    {
     "data": {
      "image/png": "[encoded data removed]",
      "text/plain": [
       "<Figure size 432x288 with 2 Axes>"
      ]
     },
     "metadata": {
      "needs_background": "light"
     },
     "output_type": "display_data"
    }
   ],
   "source": [
    "cm = confusion_matrix(y_test,y_predicted)\n",
    "cmd = ConfusionMatrixDisplay(confusion_matrix=cm)\n",
    "cmd.plot()\n",
    "plt.show()"
   ]
  },
  {
   "cell_type": "markdown",
   "metadata": {},
   "source": [
    "6. Display Matthews Correlation Coefficient"
   ]
  },
  {
   "cell_type": "code",
   "execution_count": 6,
   "metadata": {},
   "outputs": [
    {
     "data": {
      "text/plain": [
       "0.47401025972993394"
      ]
     },
     "execution_count": 6,
     "metadata": {},
     "output_type": "execute_result"
    }
   ],
   "source": [
    "matthews_corrcoef(y_test,y_predicted)"
   ]
  }
 ],
 "metadata": {
  "kernelspec": {
   "display_name": "Python 3.9.13 64-bit",
   "language": "python",
   "name": "python3"
  },
  "language_info": {
   "codemirror_mode": {
    "name": "ipython",
    "version": 3
   },
   "file_extension": ".py",
   "mimetype": "text/x-python",
   "name": "python",
   "nbconvert_exporter": "python",
   "pygments_lexer": "ipython3",
   "version": "3.9.13"
  },
  "orig_nbformat": 4,
  "vscode": {
   "interpreter": {
    "hash": "2469a70536e4d2335a2ea8907942d0699c37342a371ac185bdb5b0aa6f073890"
   }
  }
 },
 "nbformat": 4,
 "nbformat_minor": 2
}
